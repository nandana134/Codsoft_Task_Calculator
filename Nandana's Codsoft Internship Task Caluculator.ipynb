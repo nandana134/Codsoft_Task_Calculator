{
 "cells": [
  {
   "cell_type": "code",
   "execution_count": 4,
   "id": "3d87265c",
   "metadata": {},
   "outputs": [
    {
     "name": "stdout",
     "output_type": "stream",
     "text": [
      "Select any operation: \n",
      "1. Add\n",
      "2. Subtract\n",
      "3. Multiply\n",
      "4. Divide\n",
      "\n",
      "Select one from 1, 2, 3, 4 :4\n",
      "Enter first number: 56\n",
      "Enter second number: 4\n",
      "56 / 4 = 14.0\n"
     ]
    }
   ],
   "source": [
    "def add(number1,number2):\n",
    "    return number1 + number2\n",
    "def subtract(number1,number2):\n",
    "    return number1 - number2\n",
    "def divide(number1,number2):\n",
    "    return number1/number2\n",
    "def multiply(number1,number2):\n",
    "    return number1 * number2\n",
    "\n",
    "print(\"Select any operation: \\n\"\n",
    "     \"1. Add\\n\" \\\n",
    "     \"2. Subtract\\n\" \\\n",
    "     \"3. Multiply\\n\" \\\n",
    "     \"4. Divide\\n\")\n",
    "\n",
    "# Take input from the user\n",
    "select = int(input(\"Select one from 1, 2, 3, 4 :\"))\n",
    " \n",
    "number_1 = int(input(\"Enter first number: \"))\n",
    "number_2 = int(input(\"Enter second number: \"))\n",
    " \n",
    "if select == 1:\n",
    "    print(number_1, \"+\", number_2, \"=\",\n",
    "                    add(number_1, number_2))\n",
    " \n",
    "elif select == 2:\n",
    "    print(number_1, \"-\", number_2, \"=\",\n",
    "                    subtract(number_1, number_2))\n",
    " \n",
    "elif select == 3:\n",
    "    print(number_1, \"*\", number_2, \"=\",\n",
    "                    multiply(number_1, number_2))\n",
    " \n",
    "elif select == 4:\n",
    "    \n",
    "    print(number_1, \"/\", number_2, \"=\",\n",
    "                    divide(number_1, number_2))\n",
    "else:\n",
    "    print(\"Invalid input\")\n",
    " \n",
    "\n",
    "\n"
   ]
  },
  {
   "cell_type": "code",
   "execution_count": null,
   "id": "712545e2",
   "metadata": {},
   "outputs": [],
   "source": [
    "\n"
   ]
  }
 ],
 "metadata": {
  "kernelspec": {
   "display_name": "Python 3 (ipykernel)",
   "language": "python",
   "name": "python3"
  },
  "language_info": {
   "codemirror_mode": {
    "name": "ipython",
    "version": 3
   },
   "file_extension": ".py",
   "mimetype": "text/x-python",
   "name": "python",
   "nbconvert_exporter": "python",
   "pygments_lexer": "ipython3",
   "version": "3.11.4"
  }
 },
 "nbformat": 4,
 "nbformat_minor": 5
}
